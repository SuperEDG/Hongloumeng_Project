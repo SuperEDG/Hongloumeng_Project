{
 "cells": [
  {
   "cell_type": "code",
   "execution_count": 1,
   "metadata": {},
   "outputs": [
    {
     "name": "stdout",
     "output_type": "stream",
     "text": [
      "Cluster 0:\n",
      "Lin Daiyu, Jia Tanchun, Qing Wen, Miao Yu\n",
      "\n",
      "\n",
      "Cluster 1:\n",
      "Xue Baochai, Jia Yingchun, Jia Qiaojie, Li Wan, Jia She, Xing Furen\n",
      "\n",
      "\n",
      "Cluster 2:\n",
      "Wang Xifeng, Jia Mu, Jia Zheng, Jia Zhen\n",
      "\n",
      "\n",
      "Cluster 3:\n",
      "Jia Baoyu, Jia Yuanchun, Jia Xichun, Xi Ren, Qin Keqing, Wang Furen\n",
      "\n",
      "\n",
      "Cluster 4:\n",
      "Shi Xiangyun, Xiang Ling, You Erjie, You Sanjie\n",
      "\n",
      "\n"
     ]
    }
   ],
   "source": [
    "import pandas as pd\n",
    "from sklearn.cluster import KMeans\n",
    "\n",
    "# 读取csv文件\n",
    "df = pd.read_csv(r'C:\\Users\\Admin\\Desktop\\Project\\LCPM-finall3.csv')\n",
    "\n",
    "\n",
    "# 将角色名字设置为索引\n",
    "df.set_index('Name', inplace=True)\n",
    "\n",
    "# 确定要创建的聚类数\n",
    "num_clusters = 5\n",
    "\n",
    "# 运行k-means算法\n",
    "kmeans = KMeans(n_clusters=num_clusters, random_state=0).fit(df)\n",
    "\n",
    "# 将聚类标签添加回原始数据集\n",
    "df['cluster'] = kmeans.labels_\n",
    "\n",
    "# 创建空的字典用于存储每个群组的角色名\n",
    "clusters = {i: [] for i in range(num_clusters)}\n",
    "\n",
    "# 遍历数据集，将每个角色的名字添加到对应的群组\n",
    "for index, row in df.iterrows():\n",
    "    clusters[row['cluster']].append(index)\n",
    "\n",
    "# 打印每个群组的角色名\n",
    "for cluster, names in clusters.items():\n",
    "    print(f'Cluster {cluster}:')\n",
    "    print(', '.join(names))\n",
    "    print('\\n')\n"
   ]
  },
  {
   "cell_type": "code",
   "execution_count": 7,
   "metadata": {},
   "outputs": [
    {
     "name": "stdout",
     "output_type": "stream",
     "text": [
      "Cluster 0:\n",
      "Jia Mu, Jia Zheng, Jia She, Jia Zhen\n",
      "\n",
      "\n",
      "Cluster 1:\n",
      "Shi Xiangyun, Jia Tanchun, Xiang Ling, You Erjie, You Sanjie\n",
      "\n",
      "\n",
      "Cluster 2:\n",
      "Jia Baoyu, Jia Yuanchun, Jia Xichun, Jia Yingchun, Xi Ren, Qin Keqing, Xing Furen\n",
      "\n",
      "\n",
      "Cluster 3:\n",
      "Lin Daiyu, Wang Xifeng, Qing Wen, Miao Yu\n",
      "\n",
      "\n",
      "Cluster 4:\n",
      "Xue Baochai, Jia Qiaojie, Li Wan, Wang Furen\n",
      "\n",
      "\n"
     ]
    }
   ],
   "source": [
    "import pandas as pd\n",
    "from sklearn.cluster import KMeans\n",
    "\n",
    "# 读取csv文件\n",
    "df = pd.read_csv(r'C:\\Users\\Admin\\Desktop\\Project\\LCPM-finall.csv')\n",
    "\n",
    "\n",
    "# 将角色名字设置为索引\n",
    "df.set_index('Name', inplace=True)\n",
    "\n",
    "# 确定要创建的聚类数\n",
    "num_clusters = 5\n",
    "\n",
    "# 运行k-means算法\n",
    "kmeans = KMeans(n_clusters=num_clusters, random_state=0).fit(df)\n",
    "\n",
    "# 将聚类标签添加回原始数据集\n",
    "df['cluster'] = kmeans.labels_\n",
    "\n",
    "# 创建空的字典用于存储每个群组的角色名\n",
    "clusters = {i: [] for i in range(num_clusters)}\n",
    "\n",
    "# 遍历数据集，将每个角色的名字添加到对应的群组\n",
    "for index, row in df.iterrows():\n",
    "    clusters[row['cluster']].append(index)\n",
    "\n",
    "# 打印每个群组的角色名\n",
    "for cluster, names in clusters.items():\n",
    "    print(f'Cluster {cluster}:')\n",
    "    print(', '.join(names))\n",
    "    print('\\n')\n"
   ]
  }
 ],
 "metadata": {
  "kernelspec": {
   "display_name": "base",
   "language": "python",
   "name": "python3"
  },
  "language_info": {
   "codemirror_mode": {
    "name": "ipython",
    "version": 3
   },
   "file_extension": ".py",
   "mimetype": "text/x-python",
   "name": "python",
   "nbconvert_exporter": "python",
   "pygments_lexer": "ipython3",
   "version": "3.9.13"
  },
  "orig_nbformat": 4
 },
 "nbformat": 4,
 "nbformat_minor": 2
}
